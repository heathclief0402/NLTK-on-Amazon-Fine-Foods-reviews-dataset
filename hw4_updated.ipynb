{
  "cells": [
    {
      "cell_type": "code",
      "execution_count": 1,
      "id": "805a3cc6",
      "metadata": {
        "id": "805a3cc6"
      },
      "outputs": [],
      "source": [
        "import pandas as pd\n",
        "from sklearn.model_selection import train_test_split\n",
        "from sklearn.feature_extraction.text import CountVectorizer\n",
        "from sklearn.naive_bayes import GaussianNB\n",
        "from sklearn.metrics import roc_auc_score\n",
        "pd.options.display.max_rows = 20"
      ]
    },
    {
      "cell_type": "code",
      "source": [
        "from google.colab import drive\n",
        "drive.mount('/content/drive')"
      ],
      "metadata": {
        "colab": {
          "base_uri": "https://localhost:8080/"
        },
        "id": "U4_OfOoqPpfT",
        "outputId": "2108a30c-d486-4965-d04c-2bb6a8cf82b7"
      },
      "id": "U4_OfOoqPpfT",
      "execution_count": 2,
      "outputs": [
        {
          "output_type": "stream",
          "name": "stdout",
          "text": [
            "Mounted at /content/drive\n"
          ]
        }
      ]
    },
    {
      "cell_type": "code",
      "execution_count": 3,
      "id": "e134651e",
      "metadata": {
        "id": "e134651e"
      },
      "outputs": [],
      "source": [
        "cols = ['productId','userId','profileName','helpfulness','score','time','summary','text']\n",
        "#df = pd.DataFrame(columns = cols)\n",
        "content = []\n",
        "encoding = 'latin-1'\n",
        "with open(\"/content/drive/MyDrive/Colab Notebooks/finefoods_training.txt\",\"rb\")as foods: \n",
        "    lines = foods.readlines()\n",
        "    #print(lines[1])\n",
        "    for i in lines: \n",
        "        temp = i.decode(encoding)\n",
        "        content.append(temp)\n",
        "#content"
      ]
    },
    {
      "cell_type": "code",
      "execution_count": 4,
      "id": "41a96bda",
      "metadata": {
        "id": "41a96bda"
      },
      "outputs": [],
      "source": [
        "content_grouped = []\n",
        "temp = []\n",
        "for i in content: \n",
        "    if i!= '\\n': \n",
        "        temp.append(i)\n",
        "    else:\n",
        "        content_grouped.append(temp)\n",
        "        # restore temp\n",
        "        temp = []\n",
        "#content_grouped"
      ]
    },
    {
      "cell_type": "code",
      "execution_count": 5,
      "id": "eab73e0a",
      "metadata": {
        "id": "eab73e0a"
      },
      "outputs": [],
      "source": [
        "for i in content_grouped: \n",
        "    if len(i)!= 8: \n",
        "        print(\"here is the failure\")\n",
        "        print(len(i))\n",
        "        print(i)"
      ]
    },
    {
      "cell_type": "code",
      "execution_count": 6,
      "id": "9532a240",
      "metadata": {
        "id": "9532a240"
      },
      "outputs": [],
      "source": [
        "# since there is some sample do not contain len(i) = 8, I need to delete that row for further data frame transform\n",
        "for i in content_grouped: \n",
        "    if len(i)!= 8: \n",
        "        content_grouped.remove(i)\n"
      ]
    },
    {
      "cell_type": "code",
      "execution_count": 7,
      "id": "ad404924",
      "metadata": {
        "id": "ad404924"
      },
      "outputs": [],
      "source": [
        "# re-arrange the data as the data frame format\n",
        "cleaned_data = []\n",
        "for i in content_grouped:\n",
        "    temp = []\n",
        "    for j in i: \n",
        "        in_list = j.split(\":\")\n",
        "        temp.append(in_list[1][1:-1])\n",
        "    cleaned_data.append(temp)\n",
        "#cleaned_data\n"
      ]
    },
    {
      "cell_type": "code",
      "execution_count": 8,
      "id": "95568185",
      "metadata": {
        "id": "95568185"
      },
      "outputs": [],
      "source": [
        "df = pd.DataFrame(cleaned_data,columns = cols)\n",
        "#df"
      ]
    },
    {
      "cell_type": "code",
      "execution_count": 9,
      "id": "0b3f49a5",
      "metadata": {
        "id": "0b3f49a5"
      },
      "outputs": [],
      "source": [
        "df.dropna(inplace=True)"
      ]
    },
    {
      "cell_type": "code",
      "execution_count": 10,
      "id": "29814958",
      "metadata": {
        "colab": {
          "base_uri": "https://localhost:8080/"
        },
        "id": "29814958",
        "outputId": "31e3bf9c-4013-41f7-bc7c-b4f3781cd13c"
      },
      "outputs": [
        {
          "output_type": "stream",
          "name": "stdout",
          "text": [
            "<class 'pandas.core.frame.DataFrame'>\n",
            "Int64Index: 2000 entries, 0 to 1999\n",
            "Data columns (total 8 columns):\n",
            " #   Column       Non-Null Count  Dtype \n",
            "---  ------       --------------  ----- \n",
            " 0   productId    2000 non-null   object\n",
            " 1   userId       2000 non-null   object\n",
            " 2   profileName  2000 non-null   object\n",
            " 3   helpfulness  2000 non-null   object\n",
            " 4   score        2000 non-null   object\n",
            " 5   time         2000 non-null   object\n",
            " 6   summary      2000 non-null   object\n",
            " 7   text         2000 non-null   object\n",
            "dtypes: object(8)\n",
            "memory usage: 140.6+ KB\n"
          ]
        }
      ],
      "source": [
        "df.info()"
      ]
    },
    {
      "cell_type": "code",
      "execution_count": 11,
      "id": "2e9b2c24",
      "metadata": {
        "colab": {
          "base_uri": "https://localhost:8080/"
        },
        "id": "2e9b2c24",
        "outputId": "67e33b0c-ce93-4459-95f2-e7f6bf7a0736"
      },
      "outputs": [
        {
          "output_type": "stream",
          "name": "stdout",
          "text": [
            "362\n"
          ]
        }
      ],
      "source": [
        "print(len(df[\"productId\"].unique()))"
      ]
    },
    {
      "cell_type": "markdown",
      "id": "6313aa74",
      "metadata": {
        "id": "6313aa74"
      },
      "source": [
        "Therefore, produce Id is not unique"
      ]
    },
    {
      "cell_type": "code",
      "execution_count": 12,
      "id": "a030b205",
      "metadata": {
        "colab": {
          "base_uri": "https://localhost:8080/"
        },
        "id": "a030b205",
        "outputId": "b0ba7b79-c5aa-4ac5-e43e-5d5677c8d8c0"
      },
      "outputs": [
        {
          "output_type": "stream",
          "name": "stdout",
          "text": [
            "1947\n"
          ]
        }
      ],
      "source": [
        "print(len(df[\"userId\"].unique()))"
      ]
    },
    {
      "cell_type": "markdown",
      "id": "66efd6ff",
      "metadata": {
        "id": "66efd6ff"
      },
      "source": [
        "Therefore, userID is not unique"
      ]
    },
    {
      "cell_type": "code",
      "execution_count": 13,
      "id": "5c77be3a",
      "metadata": {
        "colab": {
          "base_uri": "https://localhost:8080/"
        },
        "id": "5c77be3a",
        "outputId": "dddece52-4ffb-4b21-c3ac-8fd8caa22f2c"
      },
      "outputs": [
        {
          "output_type": "stream",
          "name": "stdout",
          "text": [
            "<class 'pandas.core.frame.DataFrame'>\n",
            "Int64Index: 2000 entries, 0 to 1999\n",
            "Data columns (total 9 columns):\n",
            " #   Column       Non-Null Count  Dtype \n",
            "---  ------       --------------  ----- \n",
            " 0   productId    2000 non-null   object\n",
            " 1   userId       2000 non-null   object\n",
            " 2   profileName  2000 non-null   object\n",
            " 3   helpfulness  2000 non-null   object\n",
            " 4   score        2000 non-null   object\n",
            " 5   time         2000 non-null   object\n",
            " 6   summary      2000 non-null   object\n",
            " 7   text         2000 non-null   object\n",
            " 8   score_int    2000 non-null   int64 \n",
            "dtypes: int64(1), object(8)\n",
            "memory usage: 156.2+ KB\n"
          ]
        }
      ],
      "source": [
        "df[\"score_int\"] = df[\"score\"].astype(float).astype(int)\n",
        "df.info()"
      ]
    },
    {
      "cell_type": "markdown",
      "id": "512601bb",
      "metadata": {
        "id": "512601bb"
      },
      "source": [
        "what I need to do: \n",
        "\n",
        "1. give label (score >= 4 is 1 and, score<4 is 0 )\n",
        "\n",
        "2. data cleaning: \n",
        "\n",
        "    1. clean duplicate\n",
        "    \n",
        "    2. spacy clean stop and Text Normalization using spacy\n",
        "\n",
        "3. Bag of Word"
      ]
    },
    {
      "cell_type": "code",
      "execution_count": 14,
      "id": "35bb30c6",
      "metadata": {
        "id": "35bb30c6"
      },
      "outputs": [],
      "source": [
        "df[\"label\"] = 0 # set to negative\n",
        "for index,row in df.iterrows(): \n",
        "    if row[\"score_int\"] >= 4: \n",
        "        df.at[index,\"label\"] = 1 # if score is equal or larger than 4, replace the value with 1 (true)\n",
        "#df\n",
        "    "
      ]
    },
    {
      "cell_type": "code",
      "execution_count": 15,
      "id": "b93873d0",
      "metadata": {
        "colab": {
          "base_uri": "https://localhost:8080/"
        },
        "id": "b93873d0",
        "outputId": "4f1a2def-5439-4100-8aa7-7e34814e4d76"
      },
      "outputs": [
        {
          "output_type": "execute_result",
          "data": {
            "text/plain": [
              "1    1557\n",
              "0     443\n",
              "Name: label, dtype: int64"
            ]
          },
          "metadata": {},
          "execution_count": 15
        }
      ],
      "source": [
        "df[\"label\"].value_counts()"
      ]
    },
    {
      "cell_type": "code",
      "execution_count": 16,
      "id": "774f6698",
      "metadata": {
        "id": "774f6698"
      },
      "outputs": [],
      "source": [
        "sorted_data=df.sort_values('productId', axis=0, ascending=True, inplace=False, kind='quicksort', na_position='last')\n",
        "#sorted_data"
      ]
    },
    {
      "cell_type": "code",
      "execution_count": 17,
      "id": "3b4de4db",
      "metadata": {
        "colab": {
          "base_uri": "https://localhost:8080/"
        },
        "id": "3b4de4db",
        "outputId": "ae3ba64e-0fe2-4554-8ef4-4d988e5fcc72"
      },
      "outputs": [
        {
          "output_type": "stream",
          "name": "stderr",
          "text": [
            "/usr/local/lib/python3.8/dist-packages/torch/cuda/__init__.py:497: UserWarning: Can't initialize NVML\n",
            "  warnings.warn(\"Can't initialize NVML\")\n"
          ]
        }
      ],
      "source": [
        "from spacy.lang.en import English\n",
        "from spacy.lang.en.stop_words import STOP_WORDS\n",
        "import en_core_web_sm\n",
        "#sorted_data_new[\"token_text\"] = \"\"\n",
        "sorted_data.insert(1, \"token_text\", \"\")\n",
        "nlp_s = en_core_web_sm.load()\n",
        "nlp = English()\n",
        "#filtered_sentence =[]\n",
        "for index,row in sorted_data.iterrows(): \n",
        "    lemma_word1 = []\n",
        "    doc_s = nlp_s(row[\"text\"])\n",
        "    for token in doc_s:\n",
        "      lemma_word1.append(token.lemma_)\n",
        "    temp_sentence = ' '.join(lemma_word1)\n",
        "    doc = nlp(temp_sentence)\n",
        "    token_list = []\n",
        "    for token in doc:\n",
        "        token_list.append(token.text)\n",
        "    filtered_sentence =[] \n",
        "    for word in token_list:\n",
        "        tex = nlp.vocab[word]\n",
        "        if tex.is_stop == False:\n",
        "            filtered_sentence.append(word) \n",
        "    sorted_data.at[index, \"token_text\"] = filtered_sentence\n",
        "    \n",
        "#sorted_data    "
      ]
    },
    {
      "cell_type": "code",
      "execution_count": 18,
      "id": "1fdf26f6",
      "metadata": {
        "id": "1fdf26f6"
      },
      "outputs": [],
      "source": [
        "data_pos = sorted_data[sorted_data[\"label\"] == 1].sample(n = 400)\n",
        "data_neg = sorted_data[sorted_data[\"label\"] == 0].sample(n = 400)\n",
        "data_set = pd.concat([data_pos, data_neg])\n"
      ]
    },
    {
      "cell_type": "code",
      "source": [
        "X = data_set[\"token_text\"]\n",
        "X_str = []\n",
        "for i in X:\n",
        "  X_str.append(' '.join(i)) \n",
        "Y = data_set[\"label\"]\n",
        "from sklearn.feature_extraction.text import CountVectorizer \n",
        "vectorizer = CountVectorizer()\n",
        "vect = vectorizer.fit(X_str)\n",
        "X_vectorized = vect.transform(X_str)\n",
        "#X_vectorized.toarray()"
      ],
      "metadata": {
        "id": "xb09VS5Hbxed"
      },
      "id": "xb09VS5Hbxed",
      "execution_count": 19,
      "outputs": []
    },
    {
      "cell_type": "code",
      "execution_count": 20,
      "id": "836aee21",
      "metadata": {
        "id": "836aee21"
      },
      "outputs": [],
      "source": [
        "from sklearn.model_selection import train_test_split\n",
        "x_train, x_test, y_train, y_test = train_test_split(X_vectorized, Y, test_size = 0.3, random_state = 42)"
      ]
    },
    {
      "cell_type": "code",
      "execution_count": 21,
      "id": "bff88ec2",
      "metadata": {
        "colab": {
          "base_uri": "https://localhost:8080/"
        },
        "id": "bff88ec2",
        "outputId": "6e6897ce-bad7-4bd7-e01d-a01ccf958148"
      },
      "outputs": [
        {
          "output_type": "execute_result",
          "data": {
            "text/plain": [
              "GaussianNB()"
            ]
          },
          "metadata": {},
          "execution_count": 21
        }
      ],
      "source": [
        "model = GaussianNB()\n",
        "model.fit(x_train.toarray(), y_train)"
      ]
    },
    {
      "cell_type": "code",
      "execution_count": 22,
      "id": "3fd1f783",
      "metadata": {
        "colab": {
          "base_uri": "https://localhost:8080/"
        },
        "id": "3fd1f783",
        "outputId": "2010e5f4-e3c8-4a2c-e3b2-77c980366fe4"
      },
      "outputs": [
        {
          "output_type": "stream",
          "name": "stdout",
          "text": [
            "AUC score:  0.5744347826086956\n"
          ]
        }
      ],
      "source": [
        "predictions = model.predict(x_test.toarray())\n",
        "#print(predictions)\n",
        "print('AUC score: ', roc_auc_score(y_test, predictions ,average=None))"
      ]
    },
    {
      "cell_type": "code",
      "execution_count": 22,
      "id": "b91022a8",
      "metadata": {
        "id": "b91022a8"
      },
      "outputs": [],
      "source": []
    }
  ],
  "metadata": {
    "kernelspec": {
      "display_name": "Python 3",
      "language": "python",
      "name": "python3"
    },
    "language_info": {
      "codemirror_mode": {
        "name": "ipython",
        "version": 3
      },
      "file_extension": ".py",
      "mimetype": "text/x-python",
      "name": "python",
      "nbconvert_exporter": "python",
      "pygments_lexer": "ipython3",
      "version": "3.8.8"
    },
    "colab": {
      "provenance": []
    }
  },
  "nbformat": 4,
  "nbformat_minor": 5
}